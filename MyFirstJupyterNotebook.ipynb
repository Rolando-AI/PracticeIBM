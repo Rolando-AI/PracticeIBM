{
 "cells": [
  {
   "cell_type": "code",
   "execution_count": null,
   "id": "afa10af6-90b8-4acc-b9a6-d3c324294c38",
   "metadata": {},
   "outputs": [
    {
     "data": {
      "text/plain": [
       "2"
      ]
     },
     "execution_count": 2,
     "metadata": {},
     "output_type": "execute_result"
    }
   ],
   "source": [
    "1+1"
   ]
  },
  {
   "cell_type": "code",
   "execution_count": 3,
   "id": "b800acfe-533a-4ce6-bfbf-749ad53a2ca0",
   "metadata": {},
   "outputs": [],
   "source": [
    "one=1; two=2"
   ]
  },
  {
   "cell_type": "code",
   "execution_count": 4,
   "id": "17b5aedb-b09a-4c8d-b520-7e00740dc6f8",
   "metadata": {},
   "outputs": [
    {
     "data": {
      "text/plain": [
       "3"
      ]
     },
     "execution_count": 4,
     "metadata": {},
     "output_type": "execute_result"
    }
   ],
   "source": [
    "one+two"
   ]
  },
  {
   "cell_type": "code",
   "execution_count": 5,
   "id": "50e166a3-e9e5-4358-813c-8510f3c55be2",
   "metadata": {},
   "outputs": [
    {
     "data": {
      "text/plain": [
       "1"
      ]
     },
     "execution_count": 5,
     "metadata": {},
     "output_type": "execute_result"
    }
   ],
   "source": [
    "(one+two)^two"
   ]
  },
  {
   "cell_type": "code",
   "execution_count": 6,
   "id": "b8520aa5-d875-4b69-b43c-88e55055f999",
   "metadata": {},
   "outputs": [
    {
     "data": {
      "text/plain": [
       "6"
      ]
     },
     "execution_count": 6,
     "metadata": {},
     "output_type": "execute_result"
    }
   ],
   "source": [
    "(one+two)*two"
   ]
  },
  {
   "cell_type": "code",
   "execution_count": 7,
   "id": "71e74a1d-1341-4b92-a86b-503a50aea90e",
   "metadata": {},
   "outputs": [
    {
     "data": {
      "text/plain": [
       "0"
      ]
     },
     "execution_count": 7,
     "metadata": {},
     "output_type": "execute_result"
    }
   ],
   "source": [
    "two^two"
   ]
  },
  {
   "cell_type": "code",
   "execution_count": 8,
   "id": "00df154e-bbb1-4880-9481-04789347bc82",
   "metadata": {},
   "outputs": [
    {
     "data": {
      "text/plain": [
       "0"
      ]
     },
     "execution_count": 8,
     "metadata": {},
     "output_type": "execute_result"
    }
   ],
   "source": [
    "one^one"
   ]
  },
  {
   "cell_type": "markdown",
   "id": "cf10a806-1aa4-49a1-a7e3-434586ab88a9",
   "metadata": {},
   "source": [
    "## Create Line Plot\n",
    "This tutorial shows you how to create a plot"
   ]
  },
  {
   "cell_type": "markdown",
   "id": "6f412f08-ad0d-465d-9bd8-d35902ae579b",
   "metadata": {},
   "source": [
    "three**five"
   ]
  },
  {
   "cell_type": "code",
   "execution_count": 6,
   "id": "51ff4612-e3b3-41de-84bd-aa7b88f1f652",
   "metadata": {},
   "outputs": [
    {
     "data": {
      "text/plain": [
       "243"
      ]
     },
     "execution_count": 6,
     "metadata": {},
     "output_type": "execute_result"
    }
   ],
   "source": [
    "three=3; five=5; three**five"
   ]
  },
  {
   "cell_type": "markdown",
   "id": "ec9a6a0a-70ab-4411-a832-14531683e1a9",
   "metadata": {},
   "source": [
    "MY TITLE \n",
    "two**two"
   ]
  },
  {
   "cell_type": "code",
   "execution_count": 5,
   "id": "73c4c897-3197-48df-83f4-2cf92e817e93",
   "metadata": {},
   "outputs": [
    {
     "data": {
      "text/html": [
       "TRUE"
      ],
      "text/latex": [
       "TRUE"
      ],
      "text/markdown": [
       "TRUE"
      ],
      "text/plain": [
       "[1] TRUE"
      ]
     },
     "metadata": {},
     "output_type": "display_data"
    }
   ],
   "source": [
    "a >- 4"
   ]
  },
  {
   "cell_type": "code",
   "execution_count": 4,
   "id": "8f42ab0f-0eb0-43e6-89ce-fe248c301587",
   "metadata": {},
   "outputs": [
    {
     "name": "stdout",
     "output_type": "stream",
     "text": [
      "[1] 31\n"
     ]
    }
   ],
   "source": [
    "a=4; b=3; c=9;\n",
    "print(a+b*c)"
   ]
  },
  {
   "cell_type": "markdown",
   "id": "13d644fc-f09d-4831-83ff-e8931f82da6c",
   "metadata": {},
   "source": [
    "<a href=\"https://dataplatform.cloud.ibm.com/gallery\">IBM Cloud Gallery</a> "
   ]
  },
  {
   "cell_type": "markdown",
   "id": "a32e0ea8-b258-4cc5-9ab2-c929596bc314",
   "metadata": {},
   "source": [
    "| header | header |\n",
    "| ------ | ------ |\n",
    "| cell | cell |"
   ]
  },
  {
   "cell_type": "code",
   "execution_count": 6,
   "id": "3d7ebf47-0f5a-4470-94a4-b721c14e1988",
   "metadata": {},
   "outputs": [
    {
     "ename": "ERROR",
     "evalue": "Error in parse(text = x, srcfile = src): <text>:1:1: unexpected '|'\n1: |\n    ^\n",
     "output_type": "error",
     "traceback": [
      "Error in parse(text = x, srcfile = src): <text>:1:1: unexpected '|'\n1: |\n    ^\nTraceback:\n"
     ]
    }
   ],
   "source": [
    "| header | header |\n",
    "| ------ | ------ |\n",
    "| cell | cell |"
   ]
  },
  {
   "cell_type": "markdown",
   "id": "14c476ee-8ae7-4ef2-bf70-3ebffbf604f5",
   "metadata": {},
   "source": [
    "| header | header |\n",
    "| ------ | ------ |\n",
    "| cell | cell |"
   ]
  },
  {
   "cell_type": "markdown",
   "id": "ba4676c6-fe77-43b0-885d-94116887b6a0",
   "metadata": {},
   "source": [
    "| Name | Age | Studies |\n",
    "|:-----|:---:|--------:|\n",
    "|*Oscar*|`29`|Chem Eng |\n",
    "|*Alyona*|`28`|Mec Eng |\n",
    "|*Brayan*|`30`|Law|"
   ]
  },
  {
   "cell_type": "code",
   "execution_count": 2,
   "id": "8acf2acf-56fb-4892-befb-ff0baeef8d9b",
   "metadata": {},
   "outputs": [],
   "source": [
    "import pandas as pd\n",
    "import numpy as np\n",
    "import seaborn as sns\n",
    "import matplotlib.pyplot as plt"
   ]
  },
  {
   "cell_type": "code",
   "execution_count": 3,
   "id": "b08c4094-a1e2-4e2c-87c3-65751a8c0809",
   "metadata": {},
   "outputs": [],
   "source": [
    "%matplotlib inline"
   ]
  },
  {
   "cell_type": "code",
   "execution_count": 4,
   "id": "86c925da-9895-4bca-b5f6-848a7de399a8",
   "metadata": {},
   "outputs": [],
   "source": [
    "sns.set(color_codes=True)"
   ]
  },
  {
   "cell_type": "code",
   "execution_count": 8,
   "id": "d0dc6ac2-49c7-4aed-b035-5372df479773",
   "metadata": {},
   "outputs": [],
   "source": [
    "import pandas as pd\n",
    "import numpy as np\n",
    "import seaborn as sns\n",
    "import matplotlib.pyplot as plt"
   ]
  },
  {
   "cell_type": "code",
   "execution_count": 1,
   "id": "0503a667-77f1-435b-bc2b-5507f8472a71",
   "metadata": {},
   "outputs": [],
   "source": [
    "import csv"
   ]
  },
  {
   "cell_type": "code",
   "execution_count": null,
   "id": "4c910df6-2797-4800-a6f2-937665c2148c",
   "metadata": {},
   "outputs": [],
   "source": []
  }
 ],
 "metadata": {
  "kernelspec": {
   "display_name": "Python 3 (ipykernel)",
   "language": "python",
   "name": "python3"
  },
  "language_info": {
   "codemirror_mode": {
    "name": "ipython",
    "version": 3
   },
   "file_extension": ".py",
   "mimetype": "text/x-python",
   "name": "python",
   "nbconvert_exporter": "python",
   "pygments_lexer": "ipython3",
   "version": "3.9.12"
  }
 },
 "nbformat": 4,
 "nbformat_minor": 5
}
